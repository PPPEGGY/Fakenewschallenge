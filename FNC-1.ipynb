{
 "cells": [
  {
   "cell_type": "markdown",
   "id": "00c3444b",
   "metadata": {
    "id": "00c3444b"
   },
   "source": [
    "# Fake News Challenge -- two steps\n",
    "\n",
    "\n",
    "First model -- related/unrelated\n",
    "\n",
    "Second model -- agree/disagree/discuss"
   ]
  },
  {
   "cell_type": "code",
   "execution_count": 1,
   "id": "aaab90b7",
   "metadata": {
    "colab": {
     "base_uri": "https://localhost:8080/"
    },
    "executionInfo": {
     "elapsed": 5581,
     "status": "ok",
     "timestamp": 1682643884054,
     "user": {
      "displayName": "陳又瑄",
      "userId": "12410270576809530648"
     },
     "user_tz": -60
    },
    "id": "aaab90b7",
    "outputId": "5107d030-b259-45c5-bee4-a8d7b58f9651"
   },
   "outputs": [
    {
     "name": "stderr",
     "output_type": "stream",
     "text": [
      "[nltk_data] Downloading package stopwords to\n",
      "[nltk_data]     C:\\Users\\peggy\\AppData\\Roaming\\nltk_data...\n",
      "[nltk_data]   Package stopwords is already up-to-date!\n",
      "[nltk_data] Downloading package punkt to\n",
      "[nltk_data]     C:\\Users\\peggy\\AppData\\Roaming\\nltk_data...\n",
      "[nltk_data]   Package punkt is already up-to-date!\n",
      "[nltk_data] Downloading package wordnet to\n",
      "[nltk_data]     C:\\Users\\peggy\\AppData\\Roaming\\nltk_data...\n",
      "[nltk_data]   Package wordnet is already up-to-date!\n",
      "[nltk_data] Downloading package omw-1.4 to\n",
      "[nltk_data]     C:\\Users\\peggy\\AppData\\Roaming\\nltk_data...\n",
      "[nltk_data]   Package omw-1.4 is already up-to-date!\n"
     ]
    }
   ],
   "source": [
    "import pandas as pd\n",
    "import numpy as np\n",
    "import os\n",
    "import matplotlib.pyplot as plt\n",
    "import seaborn as sn\n",
    "plt.style.use('ggplot')\n",
    "\n",
    "%matplotlib inline\n",
    "\n",
    "from sklearn.feature_extraction.text import TfidfVectorizer, CountVectorizer\n",
    "from sklearn.model_selection import train_test_split\n",
    "from sklearn import metrics\n",
    "from sklearn.metrics import confusion_matrix,accuracy_score,roc_auc_score,roc_curve,auc,f1_score\n",
    "\n",
    "import warnings\n",
    "warnings.filterwarnings('ignore')\n",
    "\n",
    "import re\n",
    "import string\n",
    "from collections import defaultdict\n",
    "from collections import Counter\n",
    "\n",
    "# NLTK for NLP tools such as stemming, lemmatizing\n",
    "import nltk\n",
    "from nltk.corpus import stopwords\n",
    "nltk.download('stopwords')\n",
    "from nltk.util import ngrams\n",
    "from nltk.tokenize import word_tokenize\n",
    "from nltk.stem import WordNetLemmatizer\n",
    "from nltk.corpus import wordnet\n",
    "nltk.download('punkt')\n",
    "nltk.download('wordnet')\n",
    "nltk.download('omw-1.4')\n",
    "stop = set(stopwords.words('english'))\n",
    "\n",
    "# import gensim\n",
    "# from tqdm.notebook import tqdm\n",
    "\n",
    "from sklearn.preprocessing import LabelEncoder\n",
    "from tensorflow import keras"
   ]
  },
  {
   "cell_type": "markdown",
   "id": "818502ec",
   "metadata": {
    "id": "818502ec"
   },
   "source": [
    "## Preprocess data"
   ]
  },
  {
   "cell_type": "markdown",
   "id": "71e6cafe",
   "metadata": {
    "id": "71e6cafe"
   },
   "source": [
    "### load dataset/preprocess"
   ]
  },
  {
   "cell_type": "code",
   "execution_count": 2,
   "id": "64cca2f9",
   "metadata": {
    "id": "64cca2f9"
   },
   "outputs": [],
   "source": [
    "train_bodies = pd.read_csv(\"C:/Users/peggy/Downloads/NLA_assignment/dataset/train_bodies.csv\", encoding='utf-8')\n",
    "train_stances = pd.read_csv(\"C:/Users/peggy/Downloads/NLA_assignment/dataset/train_stances.csv\", encoding='utf-8')"
   ]
  },
  {
   "cell_type": "markdown",
   "id": "cd4815c4",
   "metadata": {
    "id": "cd4815c4"
   },
   "source": [
    "### replace the stance with numbers\n",
    "unrelated=0 ; agree=1 ; disagree=2 ; discuss=3"
   ]
  },
  {
   "cell_type": "code",
   "execution_count": 3,
   "id": "f6953bdb",
   "metadata": {
    "id": "f6953bdb"
   },
   "outputs": [
    {
     "data": {
      "text/html": [
       "<div>\n",
       "<style scoped>\n",
       "    .dataframe tbody tr th:only-of-type {\n",
       "        vertical-align: middle;\n",
       "    }\n",
       "\n",
       "    .dataframe tbody tr th {\n",
       "        vertical-align: top;\n",
       "    }\n",
       "\n",
       "    .dataframe thead th {\n",
       "        text-align: right;\n",
       "    }\n",
       "</style>\n",
       "<table border=\"1\" class=\"dataframe\">\n",
       "  <thead>\n",
       "    <tr style=\"text-align: right;\">\n",
       "      <th></th>\n",
       "      <th>articleBody</th>\n",
       "      <th>Headline</th>\n",
       "      <th>Stance</th>\n",
       "    </tr>\n",
       "  </thead>\n",
       "  <tbody>\n",
       "    <tr>\n",
       "      <th>0</th>\n",
       "      <td>A small meteorite crashed into a wooded area i...</td>\n",
       "      <td>Soldier shot, Parliament locked down after gun...</td>\n",
       "      <td>0</td>\n",
       "    </tr>\n",
       "    <tr>\n",
       "      <th>1</th>\n",
       "      <td>A small meteorite crashed into a wooded area i...</td>\n",
       "      <td>Tourist dubbed ‘Spider Man’ after spider burro...</td>\n",
       "      <td>0</td>\n",
       "    </tr>\n",
       "    <tr>\n",
       "      <th>2</th>\n",
       "      <td>A small meteorite crashed into a wooded area i...</td>\n",
       "      <td>Luke Somers 'killed in failed rescue attempt i...</td>\n",
       "      <td>0</td>\n",
       "    </tr>\n",
       "    <tr>\n",
       "      <th>3</th>\n",
       "      <td>A small meteorite crashed into a wooded area i...</td>\n",
       "      <td>BREAKING: Soldier shot at War Memorial in Ottawa</td>\n",
       "      <td>0</td>\n",
       "    </tr>\n",
       "    <tr>\n",
       "      <th>4</th>\n",
       "      <td>A small meteorite crashed into a wooded area i...</td>\n",
       "      <td>Giant 8ft 9in catfish weighing 19 stone caught...</td>\n",
       "      <td>0</td>\n",
       "    </tr>\n",
       "    <tr>\n",
       "      <th>...</th>\n",
       "      <td>...</td>\n",
       "      <td>...</td>\n",
       "      <td>...</td>\n",
       "    </tr>\n",
       "    <tr>\n",
       "      <th>49967</th>\n",
       "      <td>ANN ARBOR, Mich. – A pizza delivery man in Mic...</td>\n",
       "      <td>Pizza delivery man gets tipped more than $2,00...</td>\n",
       "      <td>1</td>\n",
       "    </tr>\n",
       "    <tr>\n",
       "      <th>49968</th>\n",
       "      <td>ANN ARBOR, Mich. – A pizza delivery man in Mic...</td>\n",
       "      <td>Pizza delivery man gets $2,000 tip</td>\n",
       "      <td>1</td>\n",
       "    </tr>\n",
       "    <tr>\n",
       "      <th>49969</th>\n",
       "      <td>ANN ARBOR, Mich. – A pizza delivery man in Mic...</td>\n",
       "      <td>Luckiest Pizza Delivery Guy Ever Gets $2,000 Tip</td>\n",
       "      <td>1</td>\n",
       "    </tr>\n",
       "    <tr>\n",
       "      <th>49970</th>\n",
       "      <td>ANN ARBOR, Mich. – A pizza delivery man in Mic...</td>\n",
       "      <td>Ann Arbor pizza delivery driver surprised with...</td>\n",
       "      <td>1</td>\n",
       "    </tr>\n",
       "    <tr>\n",
       "      <th>49971</th>\n",
       "      <td>ANN ARBOR, Mich. – A pizza delivery man in Mic...</td>\n",
       "      <td>Ann Arbor pizza delivery driver surprised with...</td>\n",
       "      <td>1</td>\n",
       "    </tr>\n",
       "  </tbody>\n",
       "</table>\n",
       "<p>49972 rows × 3 columns</p>\n",
       "</div>"
      ],
      "text/plain": [
       "                                             articleBody  \\\n",
       "0      A small meteorite crashed into a wooded area i...   \n",
       "1      A small meteorite crashed into a wooded area i...   \n",
       "2      A small meteorite crashed into a wooded area i...   \n",
       "3      A small meteorite crashed into a wooded area i...   \n",
       "4      A small meteorite crashed into a wooded area i...   \n",
       "...                                                  ...   \n",
       "49967  ANN ARBOR, Mich. – A pizza delivery man in Mic...   \n",
       "49968  ANN ARBOR, Mich. – A pizza delivery man in Mic...   \n",
       "49969  ANN ARBOR, Mich. – A pizza delivery man in Mic...   \n",
       "49970  ANN ARBOR, Mich. – A pizza delivery man in Mic...   \n",
       "49971  ANN ARBOR, Mich. – A pizza delivery man in Mic...   \n",
       "\n",
       "                                                Headline  Stance  \n",
       "0      Soldier shot, Parliament locked down after gun...       0  \n",
       "1      Tourist dubbed ‘Spider Man’ after spider burro...       0  \n",
       "2      Luke Somers 'killed in failed rescue attempt i...       0  \n",
       "3       BREAKING: Soldier shot at War Memorial in Ottawa       0  \n",
       "4      Giant 8ft 9in catfish weighing 19 stone caught...       0  \n",
       "...                                                  ...     ...  \n",
       "49967  Pizza delivery man gets tipped more than $2,00...       1  \n",
       "49968                 Pizza delivery man gets $2,000 tip       1  \n",
       "49969   Luckiest Pizza Delivery Guy Ever Gets $2,000 Tip       1  \n",
       "49970  Ann Arbor pizza delivery driver surprised with...       1  \n",
       "49971  Ann Arbor pizza delivery driver surprised with...       1  \n",
       "\n",
       "[49972 rows x 3 columns]"
      ]
     },
     "execution_count": 3,
     "metadata": {},
     "output_type": "execute_result"
    }
   ],
   "source": [
    "train_data = pd.merge(train_bodies, train_stances, how='left', on='Body ID')\n",
    "stances = {\n",
    "    'Stance': {'unrelated':0, 'agree': 1, 'disagree': 2, 'discuss': 3}\n",
    "}\n",
    "train_data.replace(stances, inplace=True)\n",
    "train_data.drop('Body ID', axis=1)"
   ]
  },
  {
   "cell_type": "markdown",
   "id": "4b0ad84b",
   "metadata": {
    "id": "4b0ad84b"
   },
   "source": [
    "### resample the dataset\n",
    "unrelated=36545 ; agree=3678 ; disagree=840 ; discuss=8909"
   ]
  },
  {
   "cell_type": "code",
   "execution_count": 4,
   "id": "a5203855",
   "metadata": {
    "id": "a5203855"
   },
   "outputs": [],
   "source": [
    "from sklearn.utils import resample\n",
    "data_length = 8909\n",
    "seed = 123\n",
    "unrelated_resampled = resample(train_data.loc[train_data['Stance'] == 0], replace = False, n_samples = data_length, random_state = seed)\n",
    "discuss_resampled = resample(train_data.loc[train_data['Stance'] == 3], replace = False, n_samples = data_length, random_state = seed)\n",
    "agree_resampled = resample(train_data.loc[train_data['Stance'] == 1], replace=True, n_samples=data_length, random_state = seed)\n",
    "disagree_resampled = resample(train_data.loc[train_data['Stance'] == 2], replace=True, n_samples=data_length, random_state = seed)"
   ]
  },
  {
   "cell_type": "code",
   "execution_count": 5,
   "id": "683ea7b9",
   "metadata": {
    "id": "683ea7b9"
   },
   "outputs": [],
   "source": [
    "all_resampled = [unrelated_resampled, discuss_resampled, agree_resampled, disagree_resampled]\n",
    "train_data_resampled = pd.concat(all_resampled)"
   ]
  },
  {
   "cell_type": "code",
   "execution_count": 6,
   "id": "bmGg7KZs64Jd",
   "metadata": {
    "id": "bmGg7KZs64Jd"
   },
   "outputs": [],
   "source": [
    "new_stance = train_data_resampled['Stance']\n",
    "train_data_resampled['new_stance'] = new_stance"
   ]
  },
  {
   "cell_type": "code",
   "execution_count": 7,
   "id": "Y-lSMNxM7kQK",
   "metadata": {
    "id": "Y-lSMNxM7kQK"
   },
   "outputs": [],
   "source": [
    "mappings = {0:0 , 1:1 , 2:1 , 3:1}\n",
    "train_data_resampled['Stance'] = train_data_resampled['Stance'].replace(mappings)"
   ]
  },
  {
   "cell_type": "markdown",
   "id": "64edfb71",
   "metadata": {
    "id": "64edfb71"
   },
   "source": [
    "### clean data"
   ]
  },
  {
   "cell_type": "code",
   "execution_count": 8,
   "id": "624b90a8",
   "metadata": {
    "id": "624b90a8"
   },
   "outputs": [],
   "source": [
    "# Relevant columns for this dataset\n",
    "HEADLINE_COLUMN = 'Headline'\n",
    "STANCE_COLUMN = 'Stance'\n",
    "BODY_COLUMN = 'articleBody'"
   ]
  },
  {
   "cell_type": "code",
   "execution_count": 9,
   "id": "1ec0b233",
   "metadata": {
    "id": "1ec0b233"
   },
   "outputs": [],
   "source": [
    "def remove_URL(text):\n",
    "    url = re.compile(r'https?://\\S+|www\\.\\S+')\n",
    "    return url.sub('', text)\n",
    "\n",
    "train_data_resampled[BODY_COLUMN] = train_data_resampled[BODY_COLUMN].astype(str).apply(lambda x: remove_URL(x))\n",
    "train_data_resampled[HEADLINE_COLUMN] = train_data_resampled[HEADLINE_COLUMN].astype(str).apply(lambda x: remove_URL(x))"
   ]
  },
  {
   "cell_type": "code",
   "execution_count": 10,
   "id": "2511d889",
   "metadata": {
    "id": "2511d889"
   },
   "outputs": [],
   "source": [
    "def remove_html(text):\n",
    "    html = re.compile(r'<.*?>')\n",
    "    return html.sub('', text)\n",
    "\n",
    "train_data_resampled[BODY_COLUMN] = train_data_resampled[BODY_COLUMN].apply(lambda x: remove_html(x))\n",
    "train_data_resampled[HEADLINE_COLUMN] = train_data_resampled[HEADLINE_COLUMN].apply(lambda x: remove_html(x))"
   ]
  },
  {
   "cell_type": "code",
   "execution_count": 11,
   "id": "c1e74bfa",
   "metadata": {
    "id": "c1e74bfa"
   },
   "outputs": [],
   "source": [
    "def remove_emoji(text):\n",
    "    emoji_pattern = re.compile(\"[\"\n",
    "                           u\"\\U0001F600-\\U0001F64F\"  # emoticons\n",
    "                           u\"\\U0001F300-\\U0001F5FF\"  # symbols & pictographs\n",
    "                           u\"\\U0001F680-\\U0001F6FF\"  # transport & map symbols\n",
    "                           u\"\\U0001F1E0-\\U0001F1FF\"  # flags (iOS)\n",
    "                           u\"\\U00002702-\\U000027B0\"\n",
    "                           u\"\\U000024C2-\\U0001F251\"\n",
    "                           \"]+\", flags=re.UNICODE)\n",
    "    \n",
    "    return emoji_pattern.sub(r'', text)\n",
    "\n",
    "train_data_resampled[BODY_COLUMN] = train_data_resampled[BODY_COLUMN].apply(lambda x: remove_emoji(x))\n",
    "train_data_resampled[HEADLINE_COLUMN] = train_data_resampled[HEADLINE_COLUMN].apply(lambda x: remove_emoji(x))"
   ]
  },
  {
   "cell_type": "code",
   "execution_count": 12,
   "id": "3e0d74e1",
   "metadata": {
    "id": "3e0d74e1"
   },
   "outputs": [],
   "source": [
    "def remove_punct(text):\n",
    "    table = str.maketrans('', '', string.punctuation)\n",
    "    return text.translate(table)\n",
    "\n",
    "train_data_resampled[BODY_COLUMN] = train_data_resampled[BODY_COLUMN].apply(lambda x: remove_punct(x))\n",
    "train_data_resampled[HEADLINE_COLUMN] = train_data_resampled[HEADLINE_COLUMN].apply(lambda x: remove_punct(x))"
   ]
  },
  {
   "cell_type": "markdown",
   "id": "13d879eb",
   "metadata": {
    "id": "13d879eb"
   },
   "source": [
    "### Lemmetization"
   ]
  },
  {
   "cell_type": "code",
   "execution_count": 13,
   "id": "ad76184e",
   "metadata": {
    "id": "ad76184e"
   },
   "outputs": [],
   "source": [
    "wnl = WordNetLemmatizer()\n",
    "\n",
    "def lemmatize_sentence(sentence):\n",
    "    sentence_words = sentence.split(' ')\n",
    "    new_sentence_words = list()\n",
    "    \n",
    "    for sentence_word in sentence_words:\n",
    "        sentence_word = sentence_word.replace('#', '')\n",
    "        new_sentence_word = wnl.lemmatize(sentence_word.lower(), wordnet.VERB)\n",
    "        new_sentence_words.append(new_sentence_word)\n",
    "        \n",
    "    new_sentence = ' '.join(new_sentence_words)\n",
    "    new_sentence = new_sentence.strip()\n",
    "    \n",
    "    return new_sentence\n",
    "\n",
    "train_data_resampled[BODY_COLUMN] = train_data_resampled[BODY_COLUMN].astype(str).apply(lambda x: lemmatize_sentence(x))\n",
    "train_data_resampled[HEADLINE_COLUMN] = train_data_resampled[HEADLINE_COLUMN].astype(str).apply(lambda x: lemmatize_sentence(x))"
   ]
  },
  {
   "cell_type": "markdown",
   "id": "de908c83",
   "metadata": {
    "id": "de908c83"
   },
   "source": [
    "### tokenize"
   ]
  },
  {
   "cell_type": "code",
   "execution_count": 14,
   "id": "d4287c3a",
   "metadata": {
    "id": "d4287c3a"
   },
   "outputs": [],
   "source": [
    "train_data_resampled[BODY_COLUMN] = train_data_resampled[BODY_COLUMN].astype(str).apply(word_tokenize)\n",
    "train_data_resampled[HEADLINE_COLUMN] = train_data_resampled[HEADLINE_COLUMN].astype(str).apply(word_tokenize)"
   ]
  },
  {
   "cell_type": "code",
   "execution_count": 15,
   "id": "9dRo9ecFuH7L",
   "metadata": {
    "id": "9dRo9ecFuH7L"
   },
   "outputs": [],
   "source": [
    "train_data_resampled['text'] = train_data_resampled['articleBody'].astype(str) + ' ' + train_data_resampled['Headline'].astype(str)\n",
    "train_data = train_data_resampled.drop(columns=['articleBody', 'Headline'])"
   ]
  },
  {
   "cell_type": "markdown",
   "id": "be513570",
   "metadata": {
    "id": "be513570"
   },
   "source": [
    "### Feature extraction (tf-idf)"
   ]
  },
  {
   "cell_type": "code",
   "execution_count": 20,
   "id": "SkakrCHH2yVq",
   "metadata": {
    "id": "SkakrCHH2yVq"
   },
   "outputs": [],
   "source": [
    "# train_text = train_data['text']\n",
    "labels = train_data['Stance']"
   ]
  },
  {
   "cell_type": "code",
   "execution_count": 16,
   "id": "95cfc688",
   "metadata": {},
   "outputs": [
    {
     "data": {
      "text/html": [
       "<style>#sk-container-id-1 {color: black;background-color: white;}#sk-container-id-1 pre{padding: 0;}#sk-container-id-1 div.sk-toggleable {background-color: white;}#sk-container-id-1 label.sk-toggleable__label {cursor: pointer;display: block;width: 100%;margin-bottom: 0;padding: 0.3em;box-sizing: border-box;text-align: center;}#sk-container-id-1 label.sk-toggleable__label-arrow:before {content: \"▸\";float: left;margin-right: 0.25em;color: #696969;}#sk-container-id-1 label.sk-toggleable__label-arrow:hover:before {color: black;}#sk-container-id-1 div.sk-estimator:hover label.sk-toggleable__label-arrow:before {color: black;}#sk-container-id-1 div.sk-toggleable__content {max-height: 0;max-width: 0;overflow: hidden;text-align: left;background-color: #f0f8ff;}#sk-container-id-1 div.sk-toggleable__content pre {margin: 0.2em;color: black;border-radius: 0.25em;background-color: #f0f8ff;}#sk-container-id-1 input.sk-toggleable__control:checked~div.sk-toggleable__content {max-height: 200px;max-width: 100%;overflow: auto;}#sk-container-id-1 input.sk-toggleable__control:checked~label.sk-toggleable__label-arrow:before {content: \"▾\";}#sk-container-id-1 div.sk-estimator input.sk-toggleable__control:checked~label.sk-toggleable__label {background-color: #d4ebff;}#sk-container-id-1 div.sk-label input.sk-toggleable__control:checked~label.sk-toggleable__label {background-color: #d4ebff;}#sk-container-id-1 input.sk-hidden--visually {border: 0;clip: rect(1px 1px 1px 1px);clip: rect(1px, 1px, 1px, 1px);height: 1px;margin: -1px;overflow: hidden;padding: 0;position: absolute;width: 1px;}#sk-container-id-1 div.sk-estimator {font-family: monospace;background-color: #f0f8ff;border: 1px dotted black;border-radius: 0.25em;box-sizing: border-box;margin-bottom: 0.5em;}#sk-container-id-1 div.sk-estimator:hover {background-color: #d4ebff;}#sk-container-id-1 div.sk-parallel-item::after {content: \"\";width: 100%;border-bottom: 1px solid gray;flex-grow: 1;}#sk-container-id-1 div.sk-label:hover label.sk-toggleable__label {background-color: #d4ebff;}#sk-container-id-1 div.sk-serial::before {content: \"\";position: absolute;border-left: 1px solid gray;box-sizing: border-box;top: 0;bottom: 0;left: 50%;z-index: 0;}#sk-container-id-1 div.sk-serial {display: flex;flex-direction: column;align-items: center;background-color: white;padding-right: 0.2em;padding-left: 0.2em;position: relative;}#sk-container-id-1 div.sk-item {position: relative;z-index: 1;}#sk-container-id-1 div.sk-parallel {display: flex;align-items: stretch;justify-content: center;background-color: white;position: relative;}#sk-container-id-1 div.sk-item::before, #sk-container-id-1 div.sk-parallel-item::before {content: \"\";position: absolute;border-left: 1px solid gray;box-sizing: border-box;top: 0;bottom: 0;left: 50%;z-index: -1;}#sk-container-id-1 div.sk-parallel-item {display: flex;flex-direction: column;z-index: 1;position: relative;background-color: white;}#sk-container-id-1 div.sk-parallel-item:first-child::after {align-self: flex-end;width: 50%;}#sk-container-id-1 div.sk-parallel-item:last-child::after {align-self: flex-start;width: 50%;}#sk-container-id-1 div.sk-parallel-item:only-child::after {width: 0;}#sk-container-id-1 div.sk-dashed-wrapped {border: 1px dashed gray;margin: 0 0.4em 0.5em 0.4em;box-sizing: border-box;padding-bottom: 0.4em;background-color: white;}#sk-container-id-1 div.sk-label label {font-family: monospace;font-weight: bold;display: inline-block;line-height: 1.2em;}#sk-container-id-1 div.sk-label-container {text-align: center;}#sk-container-id-1 div.sk-container {/* jupyter's `normalize.less` sets `[hidden] { display: none; }` but bootstrap.min.css set `[hidden] { display: none !important; }` so we also need the `!important` here to be able to override the default hidden behavior on the sphinx rendered scikit-learn.org. See: https://github.com/scikit-learn/scikit-learn/issues/21755 */display: inline-block !important;position: relative;}#sk-container-id-1 div.sk-text-repr-fallback {display: none;}</style><div id=\"sk-container-id-1\" class=\"sk-top-container\"><div class=\"sk-text-repr-fallback\"><pre>TfidfVectorizer(decode_error=&#x27;ignore&#x27;, min_df=2)</pre><b>In a Jupyter environment, please rerun this cell to show the HTML representation or trust the notebook. <br />On GitHub, the HTML representation is unable to render, please try loading this page with nbviewer.org.</b></div><div class=\"sk-container\" hidden><div class=\"sk-item\"><div class=\"sk-estimator sk-toggleable\"><input class=\"sk-toggleable__control sk-hidden--visually\" id=\"sk-estimator-id-1\" type=\"checkbox\" checked><label for=\"sk-estimator-id-1\" class=\"sk-toggleable__label sk-toggleable__label-arrow\">TfidfVectorizer</label><div class=\"sk-toggleable__content\"><pre>TfidfVectorizer(decode_error=&#x27;ignore&#x27;, min_df=2)</pre></div></div></div></div></div>"
      ],
      "text/plain": [
       "TfidfVectorizer(decode_error='ignore', min_df=2)"
      ]
     },
     "execution_count": 16,
     "metadata": {},
     "output_type": "execute_result"
    }
   ],
   "source": [
    "tfidf_vectorizer = TfidfVectorizer(decode_error='ignore', lowercase=True, min_df=2)\n",
    "tfidf_vectorizer.fit(train_data['text'].values.astype('U'))"
   ]
  },
  {
   "cell_type": "code",
   "execution_count": 23,
   "id": "fc25d8d1",
   "metadata": {
    "id": "fc25d8d1"
   },
   "outputs": [],
   "source": [
    "X = tfidf_vectorizer.transform(train_data['text'].values.astype('U'))"
   ]
  },
  {
   "cell_type": "markdown",
   "id": "5f18b5bf",
   "metadata": {
    "id": "5f18b5bf"
   },
   "source": [
    "### split the data into train, test and validation data"
   ]
  },
  {
   "cell_type": "code",
   "execution_count": 24,
   "id": "6YesfaOm3XFv",
   "metadata": {
    "id": "6YesfaOm3XFv"
   },
   "outputs": [],
   "source": [
    "X_train, X_test, y_train, y_test = train_test_split(X, labels, test_size=0.20, random_state=seed)\n",
    "X_train, X_val, y_train, y_val = train_test_split(X_train, y_train, test_size=0.20, random_state=seed)"
   ]
  },
  {
   "cell_type": "markdown",
   "id": "01c1457e",
   "metadata": {
    "id": "01c1457e"
   },
   "source": [
    "## First model -- related/unrelated"
   ]
  },
  {
   "cell_type": "code",
   "execution_count": 25,
   "id": "a2447b27",
   "metadata": {},
   "outputs": [
    {
     "name": "stdout",
     "output_type": "stream",
     "text": [
      "Requirement already satisfied: xgboost in c:\\users\\peggy\\anaconda3\\lib\\site-packages (1.7.6)\n",
      "Requirement already satisfied: scipy in c:\\users\\peggy\\anaconda3\\lib\\site-packages (from xgboost) (1.7.3)\n",
      "Note: you may need to restart the kernel to use updated packages.Requirement already satisfied: numpy in c:\\users\\peggy\\anaconda3\\lib\\site-packages (from xgboost) (1.19.5)\n",
      "\n"
     ]
    },
    {
     "name": "stderr",
     "output_type": "stream",
     "text": [
      "WARNING: Ignoring invalid distribution -ensorflow-intel (c:\\users\\peggy\\anaconda3\\lib\\site-packages)\n",
      "WARNING: Ignoring invalid distribution -ensorflow-intel (c:\\users\\peggy\\anaconda3\\lib\\site-packages)\n",
      "WARNING: Ignoring invalid distribution -ensorflow-intel (c:\\users\\peggy\\anaconda3\\lib\\site-packages)\n",
      "WARNING: Ignoring invalid distribution -ensorflow-intel (c:\\users\\peggy\\anaconda3\\lib\\site-packages)\n",
      "WARNING: Ignoring invalid distribution -ensorflow-intel (c:\\users\\peggy\\anaconda3\\lib\\site-packages)\n",
      "WARNING: Ignoring invalid distribution -ensorflow-intel (c:\\users\\peggy\\anaconda3\\lib\\site-packages)\n"
     ]
    }
   ],
   "source": [
    "pip install xgboost"
   ]
  },
  {
   "cell_type": "code",
   "execution_count": 26,
   "id": "62fb2395",
   "metadata": {},
   "outputs": [
    {
     "name": "stdout",
     "output_type": "stream",
     "text": [
      "Train score: 0.97676050162238\n",
      "Validation score: 0.9430024552788495\n"
     ]
    }
   ],
   "source": [
    "from xgboost import XGBClassifier\n",
    "\n",
    "xgb = XGBClassifier()\n",
    "xgb.fit(X_train, y_train)\n",
    "print(\"Train score:\", xgb.score(X_train, y_train))\n",
    "print(\"Validation score:\", xgb.score(X_val, y_val))"
   ]
  },
  {
   "cell_type": "code",
   "execution_count": 27,
   "id": "tMom-gcsaLci",
   "metadata": {
    "colab": {
     "base_uri": "https://localhost:8080/"
    },
    "executionInfo": {
     "elapsed": 1814,
     "status": "ok",
     "timestamp": 1682644331290,
     "user": {
      "displayName": "陳又瑄",
      "userId": "12410270576809530648"
     },
     "user_tz": -60
    },
    "id": "tMom-gcsaLci",
    "outputId": "9d405cd8-1550-43a2-9cbc-8c0e8f59e4fb"
   },
   "outputs": [
    {
     "name": "stdout",
     "output_type": "stream",
     "text": [
      "test accuracy score: 0.9492143658810326\n"
     ]
    }
   ],
   "source": [
    "from sklearn.metrics import accuracy_score\n",
    "\n",
    "first_predict = xgb.predict(X_test)\n",
    "accuracy = accuracy_score(y_test, first_predict)\n",
    "\n",
    "print(\"test accuracy score:\", accuracy)"
   ]
  },
  {
   "cell_type": "code",
   "execution_count": 28,
   "id": "OPxsgO0V13XG",
   "metadata": {
    "id": "OPxsgO0V13XG"
   },
   "outputs": [],
   "source": [
    "# Create the confusion matrix\n",
    "def plot_confusion_matrix(y_test, y_pred):\n",
    "    ''' Plot the confusion matrix for the target labels and predictions '''\n",
    "    cm = confusion_matrix(y_test, y_pred)\n",
    "\n",
    "    # Create a dataframe with the confusion matrix values\n",
    "    df_cm = pd.DataFrame(cm, range(cm.shape[0]),\n",
    "                  range(cm.shape[1]))\n",
    "\n",
    "    # Plot the confusion matrix\n",
    "    sn.set(font_scale=1.4) # for label size\n",
    "    sn.heatmap(df_cm, annot=True,fmt='.0f',cmap=\"YlGnBu\",annot_kws={\"size\": 10}) # font size\n",
    "    plt.show()"
   ]
  },
  {
   "cell_type": "code",
   "execution_count": 29,
   "id": "evzYS5uAma9Y",
   "metadata": {
    "colab": {
     "base_uri": "https://localhost:8080/",
     "height": 439
    },
    "executionInfo": {
     "elapsed": 24,
     "status": "ok",
     "timestamp": 1682644341128,
     "user": {
      "displayName": "陳又瑄",
      "userId": "12410270576809530648"
     },
     "user_tz": -60
    },
    "id": "evzYS5uAma9Y",
    "outputId": "97dadb83-112e-44ad-847e-d174c77eccf1"
   },
   "outputs": [
    {
     "data": {
      "image/png": "[encoded data removed]",
      "text/plain": [
       "<Figure size 432x288 with 2 Axes>"
      ]
     },
     "metadata": {},
     "output_type": "display_data"
    }
   ],
   "source": [
    "plot_confusion_matrix(y_test, np.round(first_predict))"
   ]
  },
  {
   "cell_type": "markdown",
   "id": "wXXakqAFIzYb",
   "metadata": {
    "id": "wXXakqAFIzYb"
   },
   "source": [
    "## Second Model -- Agree/Disagree/Discuss"
   ]
  },
  {
   "cell_type": "code",
   "execution_count": 17,
   "id": "82ccf9f5",
   "metadata": {},
   "outputs": [],
   "source": [
    "df = train_data[train_data['Stance'] != 0]"
   ]
  },
  {
   "cell_type": "code",
   "execution_count": 18,
   "id": "c5292b00",
   "metadata": {},
   "outputs": [],
   "source": [
    "mappings = {1:0 , 2:1 , 3:2}\n",
    "new_labels = df['new_stance'].replace(mappings)"
   ]
  },
  {
   "cell_type": "code",
   "execution_count": 19,
   "id": "LAVEDSLOccbO",
   "metadata": {
    "id": "LAVEDSLOccbO"
   },
   "outputs": [],
   "source": [
    "new_X = tfidf_vectorizer.transform(df['text'].values.astype('U'))"
   ]
  },
  {
   "cell_type": "code",
   "execution_count": 20,
   "id": "xnFxPShdc4Jd",
   "metadata": {
    "id": "xnFxPShdc4Jd"
   },
   "outputs": [],
   "source": [
    "X_train_sec, X_test_sec, y_train_sec, y_test_sec = train_test_split(new_X, new_labels, test_size=0.20, random_state=seed)\n",
    "X_train_sec, X_val_sec, y_train_sec, y_val_sec = train_test_split(X_train_sec, y_train_sec, test_size=0.20, random_state=seed)"
   ]
  },
  {
   "cell_type": "code",
   "execution_count": 21,
   "id": "DWeYbGgPeRim",
   "metadata": {
    "id": "DWeYbGgPeRim"
   },
   "outputs": [],
   "source": [
    "X_train_sec = X_train_sec.toarray()\n",
    "X_val_sec = X_val_sec.toarray()\n",
    "X_test_sec = X_test_sec.toarray()"
   ]
  },
  {
   "cell_type": "code",
   "execution_count": 22,
   "id": "2e6d1544",
   "metadata": {},
   "outputs": [],
   "source": [
    "from keras.utils.np_utils import to_categorical\n",
    "\n",
    "num_classes = 3\n",
    "y_train_sec_encoded = to_categorical(y_train_sec, num_classes)\n",
    "y_val_sec_encoded = to_categorical(y_val_sec, num_classes)\n",
    "y_test_sec_encoded = to_categorical(y_test_sec, num_classes)"
   ]
  },
  {
   "cell_type": "code",
   "execution_count": 24,
   "id": "kYO66Mk8Izq7",
   "metadata": {
    "colab": {
     "base_uri": "https://localhost:8080/"
    },
    "executionInfo": {
     "elapsed": 31954,
     "status": "ok",
     "timestamp": 1682648124722,
     "user": {
      "displayName": "陳又瑄",
      "userId": "12410270576809530648"
     },
     "user_tz": -60
    },
    "id": "kYO66Mk8Izq7",
    "outputId": "67fe89d9-312d-4659-afb5-1fd6d67c9451",
    "scrolled": false
   },
   "outputs": [
    {
     "name": "stdout",
     "output_type": "stream",
     "text": [
      "Epoch 1/50\n",
      "535/535 [==============================] - 14s 25ms/step - loss: 0.6679 - accuracy: 0.7264 - val_loss: 0.4605 - val_accuracy: 0.8132\n",
      "Epoch 2/50\n",
      "535/535 [==============================] - 12s 22ms/step - loss: 0.4566 - accuracy: 0.8255 - val_loss: 0.4241 - val_accuracy: 0.8328\n",
      "Epoch 3/50\n",
      "535/535 [==============================] - 8s 14ms/step - loss: 0.4171 - accuracy: 0.8337 - val_loss: 0.4082 - val_accuracy: 0.8391\n",
      "Epoch 4/50\n",
      "535/535 [==============================] - 8s 15ms/step - loss: 0.3973 - accuracy: 0.8454 - val_loss: 0.4050 - val_accuracy: 0.8370\n",
      "Epoch 5/50\n",
      "535/535 [==============================] - 8s 15ms/step - loss: 0.3883 - accuracy: 0.8458 - val_loss: 0.3945 - val_accuracy: 0.8448\n",
      "Epoch 6/50\n",
      "535/535 [==============================] - 7s 14ms/step - loss: 0.3711 - accuracy: 0.8506 - val_loss: 0.3959 - val_accuracy: 0.8462\n",
      "Epoch 7/50\n",
      "535/535 [==============================] - 6s 12ms/step - loss: 0.3636 - accuracy: 0.8553 - val_loss: 0.3853 - val_accuracy: 0.8548\n",
      "Epoch 8/50\n",
      "535/535 [==============================] - 22s 41ms/step - loss: 0.3538 - accuracy: 0.8583 - val_loss: 0.3798 - val_accuracy: 0.8588\n",
      "Epoch 9/50\n",
      "535/535 [==============================] - 35s 66ms/step - loss: 0.3464 - accuracy: 0.8621 - val_loss: 0.3689 - val_accuracy: 0.8702\n",
      "Epoch 10/50\n",
      "535/535 [==============================] - 19s 36ms/step - loss: 0.3399 - accuracy: 0.8644 - val_loss: 0.3782 - val_accuracy: 0.8602\n",
      "Epoch 11/50\n",
      "535/535 [==============================] - 8s 14ms/step - loss: 0.3322 - accuracy: 0.8667 - val_loss: 0.3810 - val_accuracy: 0.8653\n",
      "Epoch 12/50\n",
      "535/535 [==============================] - 8s 14ms/step - loss: 0.3233 - accuracy: 0.8728 - val_loss: 0.3711 - val_accuracy: 0.8712\n",
      "Epoch 13/50\n",
      "535/535 [==============================] - 8s 14ms/step - loss: 0.3151 - accuracy: 0.8744 - val_loss: 0.3656 - val_accuracy: 0.8735\n",
      "Epoch 14/50\n",
      "535/535 [==============================] - 7s 14ms/step - loss: 0.3120 - accuracy: 0.8777 - val_loss: 0.3680 - val_accuracy: 0.8803\n",
      "Epoch 15/50\n",
      "535/535 [==============================] - 8s 14ms/step - loss: 0.3061 - accuracy: 0.8807 - val_loss: 0.3644 - val_accuracy: 0.8780\n",
      "Epoch 16/50\n",
      "535/535 [==============================] - 8s 14ms/step - loss: 0.3010 - accuracy: 0.8804 - val_loss: 0.3584 - val_accuracy: 0.8812\n",
      "Epoch 17/50\n",
      "535/535 [==============================] - 8s 15ms/step - loss: 0.3006 - accuracy: 0.8817 - val_loss: 0.3696 - val_accuracy: 0.8775\n",
      "Epoch 18/50\n",
      "535/535 [==============================] - 8s 15ms/step - loss: 0.2884 - accuracy: 0.8846 - val_loss: 0.3697 - val_accuracy: 0.8817\n",
      "Epoch 19/50\n",
      "535/535 [==============================] - 8s 15ms/step - loss: 0.2879 - accuracy: 0.8834 - val_loss: 0.3714 - val_accuracy: 0.8880\n",
      "Epoch 20/50\n",
      "535/535 [==============================] - 8s 14ms/step - loss: 0.2828 - accuracy: 0.8887 - val_loss: 0.3532 - val_accuracy: 0.8868\n",
      "Epoch 21/50\n",
      "535/535 [==============================] - 8s 14ms/step - loss: 0.2789 - accuracy: 0.8886 - val_loss: 0.3547 - val_accuracy: 0.8866\n",
      "Epoch 22/50\n",
      "535/535 [==============================] - 8s 15ms/step - loss: 0.2748 - accuracy: 0.8898 - val_loss: 0.3470 - val_accuracy: 0.8913\n",
      "Epoch 23/50\n",
      "535/535 [==============================] - 13s 24ms/step - loss: 0.2719 - accuracy: 0.8883 - val_loss: 0.3470 - val_accuracy: 0.8971\n",
      "Epoch 24/50\n",
      "535/535 [==============================] - 17s 32ms/step - loss: 0.2675 - accuracy: 0.8937 - val_loss: 0.3612 - val_accuracy: 0.8948\n",
      "Epoch 25/50\n",
      "535/535 [==============================] - 14s 26ms/step - loss: 0.2622 - accuracy: 0.8955 - val_loss: 0.3616 - val_accuracy: 0.8957\n",
      "Epoch 26/50\n",
      "535/535 [==============================] - 36s 67ms/step - loss: 0.2586 - accuracy: 0.8957 - val_loss: 0.3587 - val_accuracy: 0.8927\n",
      "Epoch 27/50\n",
      "535/535 [==============================] - 22s 42ms/step - loss: 0.2590 - accuracy: 0.8959 - val_loss: 0.3778 - val_accuracy: 0.8971\n",
      "Epoch 28/50\n",
      "535/535 [==============================] - 9s 18ms/step - loss: 0.2531 - accuracy: 0.8956 - val_loss: 0.3618 - val_accuracy: 0.8992\n",
      "Epoch 29/50\n",
      "535/535 [==============================] - 36s 67ms/step - loss: 0.2493 - accuracy: 0.8987 - val_loss: 0.3675 - val_accuracy: 0.8978\n",
      "Epoch 30/50\n",
      "535/535 [==============================] - 12s 23ms/step - loss: 0.2462 - accuracy: 0.9007 - val_loss: 0.3636 - val_accuracy: 0.9037\n",
      "Epoch 31/50\n",
      "535/535 [==============================] - 9s 16ms/step - loss: 0.2406 - accuracy: 0.9015 - val_loss: 0.3579 - val_accuracy: 0.9032\n",
      "Epoch 32/50\n",
      "535/535 [==============================] - 9s 17ms/step - loss: 0.2402 - accuracy: 0.9026 - val_loss: 0.3599 - val_accuracy: 0.9058\n",
      "Epoch 33/50\n",
      "535/535 [==============================] - 32s 59ms/step - loss: 0.2404 - accuracy: 0.8999 - val_loss: 0.3585 - val_accuracy: 0.9032\n",
      "Epoch 34/50\n",
      "535/535 [==============================] - 35s 65ms/step - loss: 0.2372 - accuracy: 0.9042 - val_loss: 0.3670 - val_accuracy: 0.9037\n",
      "Epoch 35/50\n",
      "535/535 [==============================] - 36s 67ms/step - loss: 0.2301 - accuracy: 0.9051 - val_loss: 0.3591 - val_accuracy: 0.9055\n",
      "Epoch 36/50\n",
      "535/535 [==============================] - 13s 25ms/step - loss: 0.2282 - accuracy: 0.9055 - val_loss: 0.3530 - val_accuracy: 0.9058\n",
      "Epoch 37/50\n",
      "535/535 [==============================] - 34s 63ms/step - loss: 0.2274 - accuracy: 0.9057 - val_loss: 0.3671 - val_accuracy: 0.9093\n",
      "Epoch 38/50\n",
      "535/535 [==============================] - 9s 17ms/step - loss: 0.2280 - accuracy: 0.9087 - val_loss: 0.3521 - val_accuracy: 0.9081\n",
      "Epoch 39/50\n",
      "535/535 [==============================] - 7s 14ms/step - loss: 0.2223 - accuracy: 0.9084 - val_loss: 0.3610 - val_accuracy: 0.9041\n",
      "Epoch 40/50\n",
      "535/535 [==============================] - 9s 17ms/step - loss: 0.2234 - accuracy: 0.9087 - val_loss: 0.3589 - val_accuracy: 0.9107\n",
      "Epoch 41/50\n",
      "535/535 [==============================] - 29s 54ms/step - loss: 0.2147 - accuracy: 0.9108 - val_loss: 0.3696 - val_accuracy: 0.9123\n",
      "Epoch 42/50\n",
      "535/535 [==============================] - 35s 66ms/step - loss: 0.2142 - accuracy: 0.9114 - val_loss: 0.3749 - val_accuracy: 0.9086\n",
      "Epoch 43/50\n",
      "535/535 [==============================] - 36s 67ms/step - loss: 0.2200 - accuracy: 0.9102 - val_loss: 0.3653 - val_accuracy: 0.9130\n",
      "Epoch 44/50\n",
      "535/535 [==============================] - 36s 67ms/step - loss: 0.2079 - accuracy: 0.9159 - val_loss: 0.3675 - val_accuracy: 0.9207\n",
      "Epoch 45/50\n",
      "535/535 [==============================] - 30s 56ms/step - loss: 0.2097 - accuracy: 0.9142 - val_loss: 0.3867 - val_accuracy: 0.9116\n",
      "Epoch 46/50\n",
      "535/535 [==============================] - 22s 41ms/step - loss: 0.2088 - accuracy: 0.9170 - val_loss: 0.3756 - val_accuracy: 0.9126\n",
      "Epoch 47/50\n",
      "535/535 [==============================] - 36s 67ms/step - loss: 0.2110 - accuracy: 0.9143 - val_loss: 0.3780 - val_accuracy: 0.9147\n",
      "Epoch 48/50\n",
      "535/535 [==============================] - 35s 66ms/step - loss: 0.2086 - accuracy: 0.9157 - val_loss: 0.3563 - val_accuracy: 0.9200\n",
      "Epoch 49/50\n",
      "535/535 [==============================] - 36s 67ms/step - loss: 0.2000 - accuracy: 0.9183 - val_loss: 0.3660 - val_accuracy: 0.9182\n",
      "Epoch 50/50\n",
      "535/535 [==============================] - 36s 67ms/step - loss: 0.2050 - accuracy: 0.9150 - val_loss: 0.3698 - val_accuracy: 0.9200\n"
     ]
    }
   ],
   "source": [
    "from tensorflow.keras.models import Sequential\n",
    "from tensorflow.keras.layers import Dense, Dropout, Flatten\n",
    "from tensorflow.keras.optimizers import Adam\n",
    "\n",
    "model_MLP = Sequential()\n",
    "model_MLP.add(Dense(64, activation='relu', input_shape=(X_train_sec.shape[1],)))\n",
    "model_MLP.add(Dropout(0.4))\n",
    "model_MLP.add(Dense(64, activation='relu'))\n",
    "model_MLP.add(Dropout(0.4))\n",
    "model_MLP.add(Dense(64, activation='relu'))\n",
    "model_MLP.add(Dropout(0.4))\n",
    "model_MLP.add(Dense(3, activation='softmax'))\n",
    "model_MLP.compile(loss='categorical_crossentropy', optimizer='Adam', metrics=['accuracy'])\n",
    "\n",
    "\n",
    "history = model_MLP.fit(X_train_sec, y_train_sec_encoded, validation_data=(X_val_sec, y_val_sec_encoded), epochs=50, batch_size=32, shuffle=True)"
   ]
  },
  {
   "cell_type": "code",
   "execution_count": 33,
   "id": "671f349d",
   "metadata": {},
   "outputs": [
    {
     "data": {
      "image/png": "[encoded data removed]",
      "text/plain": [
       "<Figure size 576x576 with 1 Axes>"
      ]
     },
     "metadata": {
      "needs_background": "light"
     },
     "output_type": "display_data"
    }
   ],
   "source": [
    "plt.figure(figsize=(8, 8))\n",
    "plt.plot(history.history['loss'], label='Training Loss')\n",
    "plt.plot(history.history['val_loss'], label='Validation Loss')\n",
    "plt.title('Training and Validation Loss')\n",
    "plt.xlabel('Epochs')\n",
    "plt.ylabel('Loss')\n",
    "plt.legend()\n",
    "plt.show()"
   ]
  },
  {
   "cell_type": "code",
   "execution_count": 34,
   "id": "a1cea6d0",
   "metadata": {},
   "outputs": [
    {
     "data": {
      "image/png": "[encoded data removed]",
      "text/plain": [
       "<Figure size 576x576 with 1 Axes>"
      ]
     },
     "metadata": {
      "needs_background": "light"
     },
     "output_type": "display_data"
    }
   ],
   "source": [
    "plt.figure(figsize=(8, 8))\n",
    "plt.plot(history.history['accuracy'], label='Training Accuracy')\n",
    "plt.plot(history.history['val_accuracy'], label='Validation Accuracy')\n",
    "plt.title('Training and Validation Accuracy')\n",
    "plt.xlabel('Epochs')\n",
    "plt.ylabel('Accuracy')\n",
    "plt.legend()\n",
    "plt.show()"
   ]
  },
  {
   "cell_type": "code",
   "execution_count": 32,
   "id": "jsEetTF9dIBr",
   "metadata": {
    "colab": {
     "base_uri": "https://localhost:8080/"
    },
    "executionInfo": {
     "elapsed": 1078,
     "status": "ok",
     "timestamp": 1682648509839,
     "user": {
      "displayName": "陳又瑄",
      "userId": "12410270576809530648"
     },
     "user_tz": -60
    },
    "id": "jsEetTF9dIBr",
    "outputId": "a0520472-16a4-4bbf-b7ff-5a55fad1d18e"
   },
   "outputs": [
    {
     "name": "stdout",
     "output_type": "stream",
     "text": [
      "168/168 [==============================] - 3s 16ms/step - loss: 0.3378 - accuracy: 0.9231\n",
      "Test Loss: 0.3378\n",
      "Test Accuracy: 0.9231\n"
     ]
    }
   ],
   "source": [
    "# Assuming you have a test dataset called X_test_sec and y_test_sec_encoded\n",
    "test_loss, test_accuracy = model_MLP.evaluate(X_test_sec, y_test_sec_encoded)\n",
    "\n",
    "print(f'Test Loss: {test_loss:.4f}')\n",
    "print(f'Test Accuracy: {test_accuracy:.4f}')"
   ]
  }
 ],
 "metadata": {
  "accelerator": "GPU",
  "colab": {
   "provenance": [
    {
     "file_id": "1cmGWGQpaWchA1OcPz_CtuSSgdgEugeLe",
     "timestamp": 1682283526661
    }
   ]
  },
  "gpuClass": "premium",
  "kernelspec": {
   "display_name": "Python 3 (ipykernel)",
   "language": "python",
   "name": "python3"
  },
  "language_info": {
   "codemirror_mode": {
    "name": "ipython",
    "version": 3
   },
   "file_extension": ".py",
   "mimetype": "text/x-python",
   "name": "python",
   "nbconvert_exporter": "python",
   "pygments_lexer": "ipython3",
   "version": "3.9.7"
  }
 },
 "nbformat": 4,
 "nbformat_minor": 5
}
